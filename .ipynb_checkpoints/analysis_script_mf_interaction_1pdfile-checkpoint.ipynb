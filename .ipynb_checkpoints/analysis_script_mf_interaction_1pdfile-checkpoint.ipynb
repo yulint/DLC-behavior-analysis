{
 "cells": [
  {
   "cell_type": "code",
   "execution_count": null,
   "metadata": {},
   "outputs": [],
   "source": [
    "import pickle\n",
    "import matplotlib.pyplot as plt\n",
    "import numpy as np\n",
    "import pandas as pd\n",
    "import seaborn as sns\n",
    "from matplotlib import animation, rc\n",
    "from IPython.display import HTML\n",
    "import time\n",
    "%matplotlib inline \n"
   ]
  },
  {
   "cell_type": "code",
   "execution_count": null,
   "metadata": {},
   "outputs": [],
   "source": [
    "#Load data and format\n",
    "mf_interaction = pd.read_hdf('18_10_29_mf_interaction_leftDeepCut_resnet50_mf_interaction_male218_10_29shuffle1_150000.h5')\n",
    "#mf_interaction_female = pd.read_hdf('23_10_18_mf2_interaction1DeepCut_resnet50_mf_interaction_female18_10_23shuffle1_150000.h5')\n",
    "mf_interaction = mf_interaction.T\n",
    "#mf_interaction_female = mf_interaction_female.T"
   ]
  },
  {
   "cell_type": "code",
   "execution_count": null,
   "metadata": {},
   "outputs": [],
   "source": [
    "mf_interaction"
   ]
  },
  {
   "cell_type": "code",
   "execution_count": null,
   "metadata": {},
   "outputs": [],
   "source": [
    "#Copy and paste the name of the scorer from the dataframe above (also find out how to get the infor directly from the dataframe..)\n",
    "scorer = 'DeepCut_resnet50_mf_interaction_male218_10_29shuffle1_150000'\n"
   ]
  },
  {
   "cell_type": "code",
   "execution_count": null,
   "metadata": {},
   "outputs": [],
   "source": [
    "# the df has a MultiIndex format, this means that you need to use .loc function on the frame with multiple indexes\n",
    "# you cannot access the data with only the scorer as an index, or some other single index, it will not work\n",
    "mf_interaction.loc[(scorer, 'male_nose')]"
   ]
  },
  {
   "cell_type": "markdown",
   "metadata": {},
   "source": [
    "### Clean up and interpolate coords"
   ]
  },
  {
   "cell_type": "code",
   "execution_count": null,
   "metadata": {},
   "outputs": [],
   "source": [
    "def get_x_y_data(data, scorer, bodypart):\n",
    "    #get x_y_data\n",
    "    print('bodypart is: ', bodypart)\n",
    "    bodypart_data = (data.loc[(scorer, bodypart)])\n",
    "    \n",
    "    bodypart_data_x = bodypart_data.loc[('x')]\n",
    "    bodypart_data_y = bodypart_data.loc[('y')]\n",
    "    \n",
    "    return bodypart_data_x, bodypart_data_y\n",
    "    "
   ]
  },
  {
   "cell_type": "code",
   "execution_count": null,
   "metadata": {},
   "outputs": [],
   "source": [
    "def get_x_y_data_cleanup(data, scorer, bodypart, likelihood):\n",
    "    # sets any value below a particular point to value 0 in x and y, this 0 value can then be used by a later\n",
    "    #interpolation algorithm\n",
    "    \n",
    "    bodypart_data = (data.loc[(scorer, bodypart)])\n",
    "    \n",
    "    x_coords = []\n",
    "    y_coords = []\n",
    "    \n",
    "    for index in bodypart_data:\n",
    "        if bodypart_data.loc['likelihood'][index] > likelihood:\n",
    "            x_coords.append(bodypart_data.loc['x'][index])\n",
    "            y_coords.append(bodypart_data.loc['y'][index])\n",
    "        else:\n",
    "            x_coords.append(0)\n",
    "            y_coords.append(0)\n",
    "            \n",
    "    return x_coords, y_coords"
   ]
  },
  {
   "cell_type": "code",
   "execution_count": null,
   "metadata": {},
   "outputs": [],
   "source": [
    "def start_value_cleanup(coords):\n",
    "    # This is for when the starting value of the coords == 0; interpolation will not work on these coords until the first 0 \n",
    "    #is changed. The 0 value is changed to the first non-zero value in the coords lists\n",
    "    for index, value in enumerate(coords):\n",
    "        if value > 0:\n",
    "            start_value = value\n",
    "            start_index = index\n",
    "            break\n",
    "\n",
    "    for x in range(start_index):\n",
    "        coords[x] = start_value\n"
   ]
  },
  {
   "cell_type": "code",
   "execution_count": null,
   "metadata": {},
   "outputs": [],
   "source": [
    "\n",
    "def interp_0_coords(coords_list):\n",
    "    #coords_list is one if the outputs of the get_x_y_data = a list of co-ordinate points\n",
    "    for index, value in enumerate(coords_list):\n",
    "        if value == 0:\n",
    "            if coords_list[index-1] > 0:\n",
    "                value_before = coords_list[index-1]\n",
    "                interp_start_index = index-1\n",
    "                #print('interp_start_index: ', interp_start_index)\n",
    "                #print('interp_start_value: ', value_before)\n",
    "                #print('')\n",
    "\n",
    "        if index < len(coords_list)-1:\n",
    "            if value ==0:\n",
    "                if coords_list[index+1] > 0:\n",
    "                    interp_end_index = index+1\n",
    "                    value_after = coords_list[index+1]\n",
    "                    #print('interp_end_index: ', interp_end_index)\n",
    "                    #print('interp_end_value: ', value_after)\n",
    "                    #print('')\n",
    "\n",
    "                    #now code to interpolate over the values\n",
    "                    try:\n",
    "                        interp_diff_index = interp_end_index - interp_start_index\n",
    "                    except UnboundLocalError:\n",
    "                        print('the first value in list is 0, use the function start_value_cleanup to fix')\n",
    "                        break\n",
    "                    #print('interp_diff_index is:', interp_diff_index)\n",
    "\n",
    "                    new_values = np.linspace(value_before, value_after, interp_diff_index)\n",
    "                    #print(new_values)\n",
    "\n",
    "                    interp_index = interp_start_index+1\n",
    "                    for x in range(interp_diff_index):\n",
    "                        #print('interp_index is:', interp_index)\n",
    "                        #print('new_value should be:', new_values[x])\n",
    "                        coords_list[interp_index] = new_values[x]\n",
    "                        interp_index +=1\n",
    "        if index == len(coords_list)-1:\n",
    "            if value ==0:\n",
    "                for x in range(30):\n",
    "                    coords_list[index-x] = coords_list[index-30]\n",
    "                    #print('')\n",
    "    print('function exiting')\n",
    "    return(coords_list)\n"
   ]
  },
  {
   "cell_type": "code",
   "execution_count": null,
   "metadata": {},
   "outputs": [],
   "source": [
    "def plot_x_y_coords(x_coords, y_coords, start, end, n_data_plotted, data_index): \n",
    "    \n",
    "    if end == 'end':\n",
    "        end = len(x_coords)\n",
    "    \n",
    "    plt.subplot(3,n_data_plotted,data_index)\n",
    "    plt.plot(x_coords[start:end])\n",
    "    plt.subplot(3,n_data_plotted,data_index+n_data_plotted)\n",
    "    plt.plot(y_coords[start:end])\n",
    "    plt.subplot(3,n_data_plotted,data_index+ (2*n_data_plotted))\n",
    "    plt.plot(x_coords[start:end], y_coords[start:end])"
   ]
  },
  {
   "cell_type": "code",
   "execution_count": null,
   "metadata": {},
   "outputs": [],
   "source": []
  },
  {
   "cell_type": "markdown",
   "metadata": {},
   "source": [
    "##### Look at raw data (see the imperfection due to failures of DLC to consistently predict correctly)"
   ]
  },
  {
   "cell_type": "code",
   "execution_count": null,
   "metadata": {},
   "outputs": [],
   "source": [
    "male_left_ear_x_raw, male_left_ear_y_raw = get_x_y_data(mf_interaction, scorer, 'male_left_ear')\n",
    "male_right_ear_x_raw, male_right_ear_y_raw = get_x_y_data(mf_interaction, scorer, 'male_right_ear')\n",
    "male_nose_x_raw, male_nose_y_raw = get_x_y_data(mf_interaction, scorer, 'male_nose')\n",
    "male_tail_x_raw, male_tail_y_raw = get_x_y_data(mf_interaction, scorer, 'male_tail')"
   ]
  },
  {
   "cell_type": "code",
   "execution_count": null,
   "metadata": {},
   "outputs": [],
   "source": [
    "female_left_ear_x_raw, female_left_ear_y_raw = get_x_y_data(mf_interaction, scorer, 'female_left_ear')\n",
    "female_right_ear_x_raw, female_right_ear_y_raw = get_x_y_data(mf_interaction, scorer, 'female_right_ear')\n",
    "female_nose_x_raw, female_nose_y_raw = get_x_y_data(mf_interaction, scorer, 'female_nose')\n",
    "female_tail_x_raw, female_tail_y_raw = get_x_y_data(mf_interaction, scorer, 'female_tail')"
   ]
  },
  {
   "cell_type": "code",
   "execution_count": null,
   "metadata": {},
   "outputs": [],
   "source": [
    "%matplotlib inline\n",
    "plt.figure(figsize = (10,10))\n",
    "#use plotting function to plot the coords and see them combined\n",
    "plt.title('no interpolaton and no filter', size = 15)\n",
    "plot_x_y_coords(male_nose_x_raw, male_nose_y_raw, 50, 2000, 1, 1)\n",
    "plt.tight_layout()"
   ]
  },
  {
   "cell_type": "markdown",
   "metadata": {},
   "source": [
    "#### Look at data after DLC predicted locations that are < a threshold_confidence are removed and interpolated over, starting by looking at only one bodypart"
   ]
  },
  {
   "cell_type": "code",
   "execution_count": null,
   "metadata": {},
   "outputs": [],
   "source": [
    "# this will set all values where DLC gave a predicted location at less than a specified confidence interval to 0\n",
    "female_nose_0s_x, female_nose_0s_y = get_x_y_data_cleanup(mf_interaction, scorer, 'female_nose', 0.98)"
   ]
  },
  {
   "cell_type": "code",
   "execution_count": null,
   "metadata": {},
   "outputs": [],
   "source": [
    "female_nose_0s_y"
   ]
  },
  {
   "cell_type": "code",
   "execution_count": null,
   "metadata": {},
   "outputs": [],
   "source": [
    "# this will interpolate linearly over all co-ordinates set to 0 in the previous function '0scleanup'\n",
    "start_value_cleanup(female_nose_0s_x)\n",
    "start_value_cleanup(female_nose_0s_y)\n",
    "female_nose_interpolated_x = interp_0_coords(female_nose_0s_x)\n",
    "female_nose_interpolated_y = interp_0_coords(female_nose_0s_y)"
   ]
  },
  {
   "cell_type": "code",
   "execution_count": null,
   "metadata": {},
   "outputs": [],
   "source": [
    "plt.figure(figsize = (15,10))\n",
    "\n",
    "#plot raw\n",
    "plt.title('no interpolaton and no filter', size = 15)\n",
    "plot_x_y_coords(male_nose_x_raw, male_nose_y_raw, 50, 200, 2, 1)\n",
    "plt.title('0s -> lfilter', size = 15)\n",
    "plot_x_y_coords(female_nose_interpolated_x, female_nose_interpolated_y, 50, 1000, 2, 2)\n",
    "plt.title('0s -> interpolation -> lfilter', size = 15)\n",
    "plt.tight_layout()\n",
    "\n",
    "#Q: Are there more suitable filters than linear filter?"
   ]
  },
  {
   "cell_type": "markdown",
   "metadata": {},
   "source": [
    "#### Now can smooth over the data using linear fileter"
   ]
  },
  {
   "cell_type": "code",
   "execution_count": null,
   "metadata": {},
   "outputs": [],
   "source": [
    "from scipy.signal import lfilter"
   ]
  },
  {
   "cell_type": "code",
   "execution_count": null,
   "metadata": {},
   "outputs": [],
   "source": [
    "n= 20 # the larger n is, the smoother curve will be\n",
    "\n",
    "nom = [1.0 / n] * n\n",
    "denom = 1\n",
    "female_nose_interpolated_lfilt_x = lfilter(nom,denom,female_nose_interpolated_x)\n",
    "female_nose_interpolated_lfilt_y = lfilter(nom,denom,female_nose_interpolated_y)\n",
    "\n",
    "#this is data before\n",
    "female_nose_0s_lfilt_x = lfilter(nom,denom,female_nose_0s_x)\n",
    "female_nose_0s_lfilt_y = lfilter(nom,denom,female_nose_0s_y)"
   ]
  },
  {
   "cell_type": "code",
   "execution_count": null,
   "metadata": {
    "scrolled": false
   },
   "outputs": [],
   "source": [
    "%matplotlib inline\n",
    "\n",
    "#Comparing how good the home-made interpolation + lfilter is, compared to non-interpolated + filter\n",
    "\n",
    "plt.figure(figsize = (13,8))\n",
    "\n",
    "#plot unfiltered\n",
    "\n",
    "#plt.title('no interpolaton and no filter', size = 15)\n",
    "plot_x_y_coords(male_nose_x_raw, male_nose_y_raw, 50, 1000, 3, 1)\n",
    "#plt.title('0s -> lfilter', size = 15)\n",
    "plot_x_y_coords(female_nose_0s_lfilt_x, female_nose_0s_lfilt_y, 50, 1000, 3, 2)\n",
    "#plt.title('0s -> interpolation -> lfilter', size = 15)\n",
    "plot_x_y_coords(female_nose_interpolated_lfilt_x, female_nose_interpolated_lfilt_y, 50, 1000, 3, 3)\n",
    "\n",
    "\n",
    "\n",
    "plt.tight_layout()"
   ]
  },
  {
   "cell_type": "code",
   "execution_count": null,
   "metadata": {},
   "outputs": [],
   "source": []
  },
  {
   "cell_type": "markdown",
   "metadata": {},
   "source": [
    "### Have determined that data looks best after likeihood cleanup, interpolation, and then a linear filter -> do for all the data"
   ]
  },
  {
   "cell_type": "code",
   "execution_count": null,
   "metadata": {},
   "outputs": [],
   "source": [
    "female_nose_0s_x, female_nose_0s_y = get_x_y_data_cleanup(mf_interaction, scorer, 'female_nose', 0.98)\n",
    "female_tail_0s_x, female_tail_0s_y = get_x_y_data_cleanup(mf_interaction, scorer, 'female_tail', 0.98)\n",
    "female_right_ear_0s_x, female_right_ear_0s_y = get_x_y_data_cleanup(mf_interaction, scorer, 'female_right_ear', 0.98)\n",
    "female_left_ear_0s_x, female_left_ear_0s_y = get_x_y_data_cleanup(mf_interaction, scorer, 'female_left_ear', 0.98)\n"
   ]
  },
  {
   "cell_type": "code",
   "execution_count": null,
   "metadata": {},
   "outputs": [],
   "source": [
    "male_nose_0s_x, male_nose_0s_y = get_x_y_data_cleanup(mf_interaction, scorer, 'male_nose', 0.98)\n",
    "male_tail_0s_x, male_tail_0s_y = get_x_y_data_cleanup(mf_interaction, scorer, 'male_tail', 0.98)\n",
    "male_right_ear_0s_x, male_right_ear_0s_y = get_x_y_data_cleanup(mf_interaction, scorer, 'male_right_ear', 0.98)\n",
    "male_left_ear_0s_x, male_left_ear_0s_y = get_x_y_data_cleanup(mf_interaction, scorer, 'male_left_ear', 0.98)"
   ]
  },
  {
   "cell_type": "code",
   "execution_count": null,
   "metadata": {},
   "outputs": [],
   "source": [
    "start_value_cleanup(male_nose_0s_x)\n",
    "start_value_cleanup(male_nose_0s_y)\n",
    "male_nose_interpolated_x = interp_0_coords(male_nose_0s_x)\n",
    "male_nose_interpolated_y = interp_0_coords(male_nose_0s_y)\n",
    "\n",
    "start_value_cleanup(male_tail_0s_x)\n",
    "start_value_cleanup(male_tail_0s_y)\n",
    "male_tail_interpolated_x = interp_0_coords(male_tail_0s_x)\n",
    "male_tail_interpolated_y = interp_0_coords(male_tail_0s_y)\n",
    "\n",
    "start_value_cleanup(male_right_ear_0s_x)\n",
    "start_value_cleanup(male_right_ear_0s_y)\n",
    "male_right_ear_interpolated_x = interp_0_coords(male_right_ear_0s_x)\n",
    "male_right_ear_interpolated_y = interp_0_coords(male_right_ear_0s_y)\n",
    "\n",
    "start_value_cleanup(male_left_ear_0s_x)\n",
    "start_value_cleanup(male_left_ear_0s_y)\n",
    "male_left_ear_interpolated_x = interp_0_coords(male_left_ear_0s_x)\n",
    "male_left_ear_interpolated_y = interp_0_coords(male_left_ear_0s_y)"
   ]
  },
  {
   "cell_type": "code",
   "execution_count": null,
   "metadata": {},
   "outputs": [],
   "source": [
    "start_value_cleanup(female_nose_0s_x)\n",
    "start_value_cleanup(female_nose_0s_y)\n",
    "female_nose_interpolated_x = interp_0_coords(female_nose_0s_x)\n",
    "female_nose_interpolated_y = interp_0_coords(female_nose_0s_y)\n",
    "\n",
    "start_value_cleanup(female_tail_0s_x)\n",
    "start_value_cleanup(female_tail_0s_y)\n",
    "female_tail_interpolated_x = interp_0_coords(female_tail_0s_x)\n",
    "female_tail_interpolated_y = interp_0_coords(female_tail_0s_y)\n",
    "\n",
    "start_value_cleanup(female_right_ear_0s_x)\n",
    "start_value_cleanup(female_right_ear_0s_y)\n",
    "female_right_ear_interpolated_x = interp_0_coords(female_right_ear_0s_x)\n",
    "female_right_ear_interpolated_y = interp_0_coords(female_right_ear_0s_y)\n",
    "\n",
    "start_value_cleanup(female_left_ear_0s_x)\n",
    "start_value_cleanup(female_left_ear_0s_y)\n",
    "female_left_ear_interpolated_x = interp_0_coords(female_left_ear_0s_x)\n",
    "female_left_ear_interpolated_y = interp_0_coords(female_left_ear_0s_y)"
   ]
  },
  {
   "cell_type": "code",
   "execution_count": null,
   "metadata": {},
   "outputs": [],
   "source": [
    "female_nose_interpolated_lfilt_x = lfilter(nom,denom,female_nose_interpolated_x)\n",
    "female_nose_interpolated_lfilt_y = lfilter(nom,denom,female_nose_interpolated_y)\n",
    "\n",
    "female_tail_interpolated_lfilt_x = lfilter(nom,denom,female_tail_interpolated_x)\n",
    "female_tail_interpolated_lfilt_y = lfilter(nom,denom,female_tail_interpolated_y)\n",
    "\n",
    "female_right_ear_interpolated_lfilt_x = lfilter(nom,denom,female_right_ear_interpolated_x)\n",
    "female_right_ear_interpolated_lfilt_y = lfilter(nom,denom,female_right_ear_interpolated_y)\n",
    "\n",
    "female_left_ear_interpolated_lfilt_x = lfilter(nom,denom,female_left_ear_interpolated_x)\n",
    "female_left_ear_interpolated_lfilt_y = lfilter(nom,denom,female_left_ear_interpolated_y)"
   ]
  },
  {
   "cell_type": "code",
   "execution_count": null,
   "metadata": {},
   "outputs": [],
   "source": [
    "male_nose_interpolated_lfilt_x = lfilter(nom,denom,male_nose_interpolated_x)\n",
    "male_nose_interpolated_lfilt_y = lfilter(nom,denom,male_nose_interpolated_y)\n",
    "\n",
    "male_tail_interpolated_lfilt_x = lfilter(nom,denom,male_tail_interpolated_x)\n",
    "male_tail_interpolated_lfilt_y = lfilter(nom,denom,male_tail_interpolated_y)\n",
    "\n",
    "male_right_ear_interpolated_lfilt_x = lfilter(nom,denom,male_right_ear_interpolated_x)\n",
    "male_right_ear_interpolated_lfilt_y = lfilter(nom,denom,male_right_ear_interpolated_y)\n",
    "\n",
    "male_left_ear_interpolated_lfilt_x = lfilter(nom,denom,male_left_ear_interpolated_x)\n",
    "male_left_ear_interpolated_lfilt_y = lfilter(nom,denom,male_left_ear_interpolated_y)"
   ]
  },
  {
   "cell_type": "markdown",
   "metadata": {},
   "source": [
    "### Animation"
   ]
  },
  {
   "cell_type": "code",
   "execution_count": null,
   "metadata": {},
   "outputs": [],
   "source": [
    "%matplotlib\n",
    "\n",
    "fig, ax = plt.subplots(figsize=(8,7))\n",
    "\n",
    "pause = 1/35 # should match fps of camera\n",
    "\n",
    "for t in range(len(male_nose_interpolated_lfilt_x)):\n",
    "    if t == 0:\n",
    "        points1, = ax.plot(male_nose_interpolated_lfilt_x, male_nose_interpolated_lfilt_y, marker='o', linestyle='None', color = 'blue')\n",
    "        points2, = ax.plot(male_tail_interpolated_lfilt_x, male_tail_interpolated_lfilt_y, marker='o', linestyle='None', color = 'black')\n",
    "        points3, = ax.plot(male_right_ear_interpolated_lfilt_x, male_right_ear_interpolated_lfilt_y, marker='o', linestyle='None', color = 'cyan')\n",
    "        points4, = ax.plot(male_left_ear_interpolated_lfilt_x, male_left_ear_interpolated_lfilt_y, marker='o', linestyle='None', color = 'lightblue')\n",
    "        \n",
    "        points5, = ax.plot(female_nose_interpolated_lfilt_x, female_nose_interpolated_lfilt_y, marker='o', linestyle='None', color = 'red')\n",
    "        points6, = ax.plot(female_tail_interpolated_lfilt_x, female_tail_interpolated_lfilt_y, marker='o', linestyle='None', color = 'pink')\n",
    "        points7, = ax.plot(female_right_ear_interpolated_lfilt_x, female_right_ear_interpolated_lfilt_y, marker='o', linestyle='None', color = 'purple')\n",
    "        points8, = ax.plot(female_left_ear_interpolated_lfilt_x, female_left_ear_interpolated_lfilt_y, marker='o', linestyle='None', color = 'salmon')        \n",
    "        \n",
    "        ax.set_xlim(500, 2000) \n",
    "        ax.set_ylim(0, 1000) \n",
    "    else:\n",
    "        x = male_nose_interpolated_lfilt_x[t]\n",
    "        y =male_nose_interpolated_lfilt_y[t]\n",
    "        points1.set_data(x, y)\n",
    "        \n",
    "        x = male_tail_interpolated_lfilt_x[t]\n",
    "        y = male_tail_interpolated_lfilt_y[t]\n",
    "        points2.set_data(x, y)\n",
    "        \n",
    "        x = male_right_ear_interpolated_lfilt_x[t]\n",
    "        y = male_right_ear_interpolated_lfilt_y[t]\n",
    "        points3.set_data(x, y)\n",
    "        \n",
    "        x = male_left_ear_interpolated_lfilt_x[t]\n",
    "        y = male_left_ear_interpolated_lfilt_y[t]\n",
    "        points4.set_data(x, y)\n",
    "        \n",
    "        \n",
    "        \n",
    "        x = female_nose_interpolated_lfilt_x[t]\n",
    "        y = female_nose_interpolated_lfilt_y[t]\n",
    "        points5.set_data(x, y)\n",
    "        \n",
    "        x = female_tail_interpolated_lfilt_x[t]\n",
    "        y = female_tail_interpolated_lfilt_y[t]\n",
    "        points6.set_data(x, y)\n",
    "        \n",
    "        x = female_right_ear_interpolated_lfilt_x[t]\n",
    "        y = female_right_ear_interpolated_lfilt_y[t]\n",
    "        points7.set_data(x, y)\n",
    "        \n",
    "        x = female_left_ear_interpolated_lfilt_x[t]\n",
    "        y = female_left_ear_interpolated_lfilt_y[t]\n",
    "        points8.set_data(x, y)\n",
    "        \n",
    "    plt.pause(pause)"
   ]
  },
  {
   "cell_type": "code",
   "execution_count": null,
   "metadata": {},
   "outputs": [],
   "source": [
    "male_nose_interpolated_lfilt_x"
   ]
  },
  {
   "cell_type": "code",
   "execution_count": null,
   "metadata": {},
   "outputs": [],
   "source": [
    "import numpy as np\n",
    "import matplotlib.pyplot as plt \n",
    "import matplotlib.animation as animation\n",
    "\n",
    "\n",
    "def animate2(i):\n",
    "\n",
    "    ax1.clear()\n",
    "    ax1.plot(male_nose_interpolated_lfilt_x[i], male_nose_interpolated_lfilt_x[i])\n",
    "\n",
    "# ---\n",
    "\n",
    "#test_data=np.array([[3, 7],[1, 2],[8, 11],[5, -12],[20, 25], [-3, 30], [2,2], [17, 17]])\n",
    "\n",
    "fig = plt.figure()\n",
    "ax1 = fig.add_subplot(1, 1, 1)\n",
    "\n",
    "# create animation\n",
    "animation.FuncAnimation(fig, animate2, frames=range(1, len(male_nose_interpolated_lfilt_x)), interval=1/30, repeat=False)\n",
    "\n",
    "# start animation\n",
    "HTML(anim.to_html5_video())"
   ]
  },
  {
   "cell_type": "code",
   "execution_count": null,
   "metadata": {},
   "outputs": [],
   "source": [
    "fig, ax = plt.subplots()\n",
    "\n",
    "ax.set_xlim(500, 2000) \n",
    "ax.set_ylim(0, 1000) \n",
    "\n",
    "line, = ax.plot([], [], lw=20)\n",
    "\n",
    "#ax.set_xlim(( 0, 2))\n",
    "#ax.set_ylim((-2, 2))\n",
    "\n",
    "#line, = ax.plot([], [], lw=20)\n",
    "\n",
    "\n",
    "def init():\n",
    "    line.set_data([], [])\n",
    "    return (line,)\n",
    "\n",
    "# animation function. This is called sequentially\n",
    "def animate(i):\n",
    "    x = np.array(male_nose_interpolated_lfilt_x)[i]\n",
    "    y = np.array(male_nose_interpolated_lfilt_y)[i]\n",
    "    line.set_data(x, y)\n",
    "# animation function. This is called sequentially\n",
    "#    x = np.linspace(0, 2, 1000)\n",
    "#    y = np.sin(2 * np.pi * (x - 0.01 * i))\n",
    "#    line.set_data(x, y)\n",
    "    return (line,)\n",
    "\n",
    "# call the animator. blit=True means only re-draw the parts that have changed.\n",
    "anim = animation.FuncAnimation(fig, animate, init_func=init,\n",
    "                               frames=500, interval=20, blit=True)\n",
    "\n",
    "HTML(anim.to_html5_video())\n"
   ]
  },
  {
   "cell_type": "code",
   "execution_count": null,
   "metadata": {},
   "outputs": [],
   "source": [
    "data_x = np.array(mother_earR_x)"
   ]
  },
  {
   "cell_type": "code",
   "execution_count": null,
   "metadata": {},
   "outputs": [],
   "source": [
    "data = np.array([mother_earR_x, mother_earR_y])"
   ]
  },
  {
   "cell_type": "code",
   "execution_count": null,
   "metadata": {},
   "outputs": [],
   "source": [
    "data"
   ]
  },
  {
   "cell_type": "code",
   "execution_count": null,
   "metadata": {},
   "outputs": [],
   "source": [
    "import numpy as np\n",
    "import matplotlib.pyplot as plt\n",
    "import matplotlib.animation as animation\n",
    "\n",
    "# Create initial data\n",
    "data = np.array([mother_earR_x, mother_earR_y])\n",
    "\n",
    "# Create figure and axes\n",
    "fig = plt.figure()\n",
    "ax = plt.axes(xlim=(0, 200), ylim=(0, 10))\n",
    "\n",
    "# Create initial objects\n",
    "line, = ax.plot([], [], 'r-')\n",
    "annotation = ax.annotate('A0', xy=(data[0][0], data[1][0]))\n",
    "annotation.set_animated(True)\n",
    "\n",
    "# Create the init function that returns the objects\n",
    "# that will change during the animation process\n",
    "def init():\n",
    "    return line, annotation\n",
    "\n",
    "# Create the update function that returns all the\n",
    "# objects that have changed\n",
    "def update(num):\n",
    "    newData = np.array([[1 + num, 2 + num / 2, 3, 4 - num / 4, 5 + num],\n",
    "                        [7, 4, 9 + num / 3, 2, 3]])\n",
    "    line.set_data(newData)\n",
    "    # This is not working i 1.2.1\n",
    "    # annotation.set_position((newData[0][0], newData[1][0]))\n",
    "    annotation.xytext = (newData[0][0], newData[1][0])\n",
    "    return line, annotation\n",
    "\n",
    "anim = animation.FuncAnimation(fig, update, frames=25, init_func=init,\n",
    "                               interval=200, blit=True)\n",
    "HTML(anim.to_html5_video())"
   ]
  },
  {
   "cell_type": "code",
   "execution_count": null,
   "metadata": {},
   "outputs": [],
   "source": [
    "\n",
    "    "
   ]
  },
  {
   "cell_type": "code",
   "execution_count": null,
   "metadata": {},
   "outputs": [],
   "source": []
  },
  {
   "cell_type": "markdown",
   "metadata": {},
   "source": [
    "### OUR SHITTY CODE"
   ]
  },
  {
   "cell_type": "code",
   "execution_count": null,
   "metadata": {},
   "outputs": [],
   "source": [
    "def zip_xy(x_pos, y_pos):\n",
    "    \n",
    "    xy = np.stack((x_pos, y_pos), axis =-1)\n",
    "    \n",
    "    return xy\n",
    "\n",
    "female_nose_xy = zip_xy(female_nose_interpolated_lfilt_x,female_nose_interpolated_lfilt_y)\n",
    "female_tail_xy = zip_xy(female_tail_interpolated_lfilt_x,female_tail_interpolated_lfilt_y)\n",
    "female_right_ear_xy = zip_xy(female_right_ear_interpolated_lfilt_x,female_right_ear_interpolated_lfilt_y)\n",
    "female_left_ear_xy = zip_xy(female_left_ear_interpolated_lfilt_x,female_left_ear_interpolated_lfilt_y)\n",
    "\n",
    "female_body_midpt_xy = (female_nose_xy + female_tail_xy)/2\n",
    "\n",
    "male_nose_xy = zip_xy(male_nose_interpolated_lfilt_x,male_nose_interpolated_lfilt_y)\n",
    "male_tail_xy = zip_xy(male_tail_interpolated_lfilt_x,male_tail_interpolated_lfilt_y)\n",
    "male_right_ear_xy = zip_xy(male_right_ear_interpolated_lfilt_x,male_right_ear_interpolated_lfilt_y)\n",
    "male_left_ear_xy = zip_xy(male_left_ear_interpolated_lfilt_x,male_left_ear_interpolated_lfilt_y)\n",
    "\n",
    "male_body_midpt_xy = (male_nose_xy + male_tail_xy)/2"
   ]
  },
  {
   "cell_type": "code",
   "execution_count": null,
   "metadata": {},
   "outputs": [],
   "source": [
    "### for nose-nose/tail/body distances"
   ]
  },
  {
   "cell_type": "code",
   "execution_count": null,
   "metadata": {},
   "outputs": [],
   "source": [
    "def find_distance(body_part_1_xy, body_part_2_xy):\n",
    "    \n",
    "    vector_btwn_parts = body_part_1_xy - body_part_2_xy\n",
    "    distanceOverTime = np.linalg.norm(vector_btwn_parts,axis=1)\n",
    "    #distanceOverTime = np.sqrt(((body_part_1_xy[:,0]-body_part_2_xy[:,0])**2) + ((body_part_1_xy[:,1]-body_part_2_xy[:,1])**2))\n",
    "    return distanceOverTime\n",
    "\n",
    "nose_nose_dist = find_distance(male_nose_xy, female_nose_xy)\n",
    "male_nose_female_tail_dist  = find_distance(male_nose_xy, female_tail_xy)\n",
    "male_nose_female_body_dist  = find_distance(male_nose_xy, female_body_midpt_xy)\n",
    "\n",
    "female_nose_male_tail_dist  = find_distance(female_nose_xy, male_tail_xy)\n",
    "female_nose_male_body_dist  = find_distance(female_nose_xy, male_body_midpt_xy)"
   ]
  },
  {
   "cell_type": "code",
   "execution_count": null,
   "metadata": {},
   "outputs": [],
   "source": [
    "def sniffing_threshold(distanceOverTime, threshold=50):\n",
    "    sniffing_behaviour = []\n",
    "    \n",
    "    for distance in distanceOverTime:\n",
    "        if distance < threshold:\n",
    "            sniffing_behaviour.append(1)\n",
    "        else:\n",
    "            sniffing_behaviour.append(0)\n",
    "    \n",
    "    return sniffing_behaviour"
   ]
  },
  {
   "cell_type": "code",
   "execution_count": null,
   "metadata": {},
   "outputs": [],
   "source": [
    "mutual_sniffing = sniffing_threshold(nose_nose_dist)\n",
    "\n",
    "male_anogenital_sniffing = sniffing_threshold(male_nose_female_tail_dist)\n",
    "male_body_sniffing = sniffing_threshold(male_nose_female_body_dist)\n",
    "\n",
    "female_anogenital_sniffing = sniffing_threshold(female_nose_male_tail_dist)\n",
    "female_body_sniffing = sniffing_threshold(female_nose_male_body_dist)"
   ]
  },
  {
   "cell_type": "code",
   "execution_count": null,
   "metadata": {},
   "outputs": [],
   "source": [
    "%matplotlib\n",
    "\n",
    "fig, axes = plt.subplots(nrows=3, sharex = True, figsize=(15,9))\n",
    "\n",
    "axes[0].plot(mutual_sniffing)\n",
    "axes[0].set_title(\"mutual sniffing (nose-nose)\")\n",
    "\n",
    "axes[1].plot(male_anogenital_sniffing, color = 'red')\n",
    "axes[1].plot(male_body_sniffing, color = 'blue')\n",
    "axes[1].set_title(\"male anogenital(red)/ body(blue) sniffing\")\n",
    "\n",
    "axes[2].plot(female_anogenital_sniffing, color = 'red')\n",
    "axes[2].plot(female_body_sniffing, color = 'blue')\n",
    "axes[2].set_title(\"female anogenital(red)/ body(blue) sniffing\")"
   ]
  },
  {
   "cell_type": "code",
   "execution_count": null,
   "metadata": {},
   "outputs": [],
   "source": [
    "### orienting, male/female \"interest\""
   ]
  },
  {
   "cell_type": "code",
   "execution_count": null,
   "metadata": {},
   "outputs": [],
   "source": [
    "def theta_btwn_vectors(vector1, vector2):\n",
    "    #note that this code confuses thetas < pi/2 with thetas > 3pi/2, and similarly for lower 2 quadrants    \n",
    "    theta_btwn_vectors = []\n",
    "    \n",
    "    for t in range(len(vector1)):\n",
    "        dot_pdt = np.dot(vector1[t],vector2[t])\n",
    "        \n",
    "        theta = np.arccos(dot_pdt/np.linalg.norm(vector1[t])/np.linalg.norm(vector2[t]))\n",
    "        theta_btwn_vectors.append(theta)\n",
    "        \n",
    "    return theta_btwn_vectors"
   ]
  },
  {
   "cell_type": "code",
   "execution_count": null,
   "metadata": {},
   "outputs": [],
   "source": [
    "def target_theta(nose_xy, left_ear_xy, right_ear_xy, target_xy):\n",
    "#theta between middle of head of mouse 1 to target body part of mouse 2    \n",
    "    mid_pt_btwn_ears_xy = (left_ear_xy+right_ear_xy)/2\n",
    "    \n",
    "    head_dir_vector = nose_xy - mid_pt_btwn_ears_xy\n",
    "      \n",
    "    ear_mid_pt_to_target_vector =  target_xy - mid_pt_btwn_ears_xy\n",
    "    \n",
    "    theta_to_target = theta_btwn_vectors(head_dir_vector,ear_mid_pt_to_target_vector)\n",
    "        \n",
    "    return theta_to_target, ear_mid_pt_to_target_vector"
   ]
  },
  {
   "cell_type": "code",
   "execution_count": null,
   "metadata": {},
   "outputs": [],
   "source": [
    "def orienting_threshold(theta_to_target,threshold = np.pi/12):\n",
    "    #threshold theta to body part\n",
    "    orienting_to_target = []\n",
    "    \n",
    "    for theta in theta_to_target:\n",
    "        if theta < threshold:\n",
    "            orienting_to_target.append(1)\n",
    "        else:\n",
    "            orienting_to_target.append(0)   \n",
    "            \n",
    "    return orienting_to_target"
   ]
  },
  {
   "cell_type": "code",
   "execution_count": null,
   "metadata": {},
   "outputs": [],
   "source": [
    "def combined_nosetail_orienting(theta_to_target_nose, theta_to_target_tail, threshold = np.pi/12):\n",
    "   #combine thresholded theta to nose + tail -> thresholded theta to body\n",
    "    orienting_to_nose = orienting_threshold(theta_to_target_nose, threshold = threshold)\n",
    "    orienting_to_tail = orienting_threshold(theta_to_target_tail, threshold = threshold)\n",
    "    \n",
    "    interest = np.add(orienting_to_nose, orienting_to_tail)\n",
    "    \n",
    "    return interest, orienting_to_nose, orienting_to_tail"
   ]
  },
  {
   "cell_type": "code",
   "execution_count": null,
   "metadata": {
    "scrolled": false
   },
   "outputs": [],
   "source": [
    "female_theta_to_male_nose, _ = target_theta(female_nose_xy, female_left_ear_xy, female_right_ear_xy, male_nose_xy)\n",
    "female_theta_to_male_tail, _ = target_theta(female_nose_xy, female_left_ear_xy, female_right_ear_xy, male_tail_xy)\n",
    "male_theta_to_female_nose, male_head_to_female_nose_vector = target_theta(male_nose_xy, male_left_ear_xy, male_right_ear_xy, female_nose_xy)\n",
    "male_theta_to_female_tail, male_head_to_female_tail_vector = target_theta(male_nose_xy, male_left_ear_xy, male_right_ear_xy, female_tail_xy)\n",
    "\n",
    "female_interest,_ ,_ = combined_nosetail_orienting(female_theta_to_male_nose, female_theta_to_male_tail)\n",
    "male_interest, _, _ = combined_nosetail_orienting(male_theta_to_female_nose, male_theta_to_female_tail)\n",
    "\n",
    "fig, (ax1, ax2) = plt.subplots(nrows =2, figsize=(15,9))\n",
    "ax1.plot(male_interest)\n",
    "ax2.plot(female_interest)"
   ]
  },
  {
   "cell_type": "code",
   "execution_count": null,
   "metadata": {},
   "outputs": [],
   "source": []
  },
  {
   "cell_type": "code",
   "execution_count": null,
   "metadata": {},
   "outputs": [],
   "source": [
    "import scipy \n",
    "\n",
    "def normalised_cross_corr(a,v, mode='valid'):\n",
    "    a_norm = (a - np.mean(a)) / (np.std(a) * len(a))\n",
    "    v_norm = (v - np.mean(v)) /  np.std(v)\n",
    "    cross_corr = np.correlate(a_norm,v_norm, mode=mode)\n",
    "    return cross_corr\n",
    "\n",
    "def cross_corr_xy(nose_xy, body_midpt_xy,time_bin = 35):\n",
    "    num_bins = int(len(nose_xy)/time_bin)\n",
    "    cross_corr_over_time = []\n",
    "\n",
    "    for i in range(num_bins):\n",
    "        bin_start = i*time_bin\n",
    "        bin_end = (i+1)*time_bin\n",
    "        bin_end_2 = (i+3)*time_bin\n",
    "\n",
    "        cross_corr_x = normalised_cross_corr(body_midpt_xy[bin_start:bin_end_2,0],nose_xy[bin_start:bin_end,0],mode='valid')\n",
    "        cross_corr_y = normalised_cross_corr(body_midpt_xy[bin_start:bin_end_2,1],nose_xy[bin_start:bin_end,1],mode='valid')\n",
    "        cross_corr_xy = cross_corr_x * cross_corr_y\n",
    "        \n",
    "        cross_corr_over_time = np.append(cross_corr_over_time, np.full(time_bin,np.amax(cross_corr_xy)), axis=0)        \n",
    "        \n",
    "    return cross_corr_over_time       "
   ]
  },
  {
   "cell_type": "code",
   "execution_count": null,
   "metadata": {},
   "outputs": [],
   "source": [
    "def following_threshold(cross_corr_over_time, threshold=0.07):\n",
    "    following_behaviour = []\n",
    "    \n",
    "    for cross_corr in cross_corr_over_time:\n",
    "        if cross_corr > threshold:\n",
    "            following_behaviour.append(1)\n",
    "        else:\n",
    "            following_behaviour.append(0)\n",
    "    \n",
    "    return following_behaviour\n",
    "\n",
    "male_cross_corr = cross_corr_xy(male_nose_xy,female_body_midpt_xy,time_bin = 35)\n",
    "female_cross_corr = cross_corr_xy(female_nose_xy,male_body_midpt_xy)\n",
    "\n",
    "male_following = following_threshold(male_cross_corr)\n",
    "female_following = following_threshold(female_cross_corr)\n",
    "\n",
    "fig, (ax1, ax2) = plt.subplots(nrows =2, figsize=(15,9))\n",
    "ax1.plot(male_following)\n",
    "ax2.plot(female_following)"
   ]
  },
  {
   "cell_type": "code",
   "execution_count": null,
   "metadata": {},
   "outputs": [],
   "source": [
    "np.arange(1,10)"
   ]
  },
  {
   "cell_type": "code",
   "execution_count": null,
   "metadata": {},
   "outputs": [],
   "source": [
    "def movement(xy, time_scale=35):\n",
    "    \n",
    "    movement_vector = []\n",
    "    movement_velocity = [] #i.e. velocity\n",
    "    movement_direction= [] #i.e. direction\n",
    "    \n",
    "    for t in np.arange(35,len(xy)-1):\n",
    "        movement = xy[t] - xy[t-time_scale]\n",
    "        magnitude = np.linalg.norm(movement)\n",
    "        unit_vector = movement/ np.linalg.norm(movement)\n",
    "        \n",
    "        movement_vector.append(movement)\n",
    "        movement_velocity.append(magnitude)\n",
    "        movement_direction.append(unit_vector)\n",
    "    \n",
    "    return movement_vector, movement_velocity, movement_direction"
   ]
  },
  {
   "cell_type": "code",
   "execution_count": null,
   "metadata": {},
   "outputs": [],
   "source": [
    "male_movement, _, _ = movement(male_nose_xy)\n",
    "female_movement, _, _ = movement(female_nose_xy)\n",
    "\n",
    "theta_btwn_movement = theta_btwn_vectors(male_movement,female_movement)\n",
    "theta_movement_to_female_nose = theta_btwn_vectors(male_movement, male_head_to_female_nose_vector[:-1,])\n",
    "theta_movement_to_female_tail = theta_btwn_vectors(male_movement, male_head_to_female_tail_vector[:-1,])"
   ]
  },
  {
   "cell_type": "code",
   "execution_count": null,
   "metadata": {},
   "outputs": [],
   "source": [
    "#movement of male and female in same direction\n",
    "coherent_motion = orienting_threshold(theta_btwn_movement, threshold = np.pi/12)\n",
    "\n",
    "#and male moving towards female\n",
    "movement_towards_female, _,_ = combined_nosetail_orienting(theta_movement_to_female_nose, theta_movement_to_female_nose, threshold = np.pi/12)\n",
    "\n",
    "sexual_pursuit = np.multiply(coherent_motion, movement_towards_female)\n",
    "\n",
    "%matplotlib inline\n",
    "fig, ax1 = plt.subplots(figsize=(15,4))\n",
    "ax1.plot(sexual_pursuit)"
   ]
  }
 ],
 "metadata": {
  "kernelspec": {
   "display_name": "Python 3",
   "language": "python",
   "name": "python3"
  },
  "language_info": {
   "codemirror_mode": {
    "name": "ipython",
    "version": 3
   },
   "file_extension": ".py",
   "mimetype": "text/x-python",
   "name": "python",
   "nbconvert_exporter": "python",
   "pygments_lexer": "ipython3",
   "version": "3.7.0"
  }
 },
 "nbformat": 4,
 "nbformat_minor": 2
}
